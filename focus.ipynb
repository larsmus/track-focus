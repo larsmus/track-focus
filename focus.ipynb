{
 "cells": [
  {
   "cell_type": "code",
   "execution_count": 58,
   "metadata": {},
   "outputs": [],
   "source": [
    "from plotly import graph_objs as go\n",
    "import pandas as pd\n",
    "import numpy as np\n",
    "import math\n",
    "import glob, os"
   ]
  },
  {
   "cell_type": "code",
   "execution_count": 64,
   "metadata": {},
   "outputs": [],
   "source": [
    "# files are on the format \"focused-username.csv\"\n",
    "usernames = [file[file.find(\"_\")+1:file.find(\".csv\")] for file in glob.glob(\"*.csv\")]\n",
    "data = [pd.read_csv(file) for file in glob.glob(\"*.csv\")]"
   ]
  },
  {
   "cell_type": "code",
   "execution_count": 80,
   "metadata": {},
   "outputs": [],
   "source": [
    "dates = [[timestamp[:timestamp.find(\" at\")] for timestamp in d[\"Start date\"][1:]] for d in data]\n",
    "unique = [np.unique(d, return_counts=True) for d in dates]"
   ]
  },
  {
   "cell_type": "code",
   "execution_count": 82,
   "metadata": {},
   "outputs": [
    {
     "data": {
      "text/plain": [
       "'focused_plot.html'"
      ]
     },
     "execution_count": 82,
     "metadata": {},
     "output_type": "execute_result"
    }
   ],
   "source": [
    "plotly.offline.plot({\n",
    "    \"data\": [go.Scatter(x=u[0], y=u[1], name='Lars',\n",
    "                         line=dict(color='firebrick', width=i)) \n",
    "             for i, u in enumerate(unique)],\n",
    "    \"layout\": go.Layout(title=\"Be Focused\")\n",
    "}, auto_open=False, filename=\"focused_plot.html\")"
   ]
  },
  {
   "cell_type": "code",
   "execution_count": null,
   "metadata": {},
   "outputs": [],
   "source": []
  }
 ],
 "metadata": {
  "kernelspec": {
   "display_name": "Python 3",
   "language": "python",
   "name": "python3"
  },
  "language_info": {
   "codemirror_mode": {
    "name": "ipython",
    "version": 3
   },
   "file_extension": ".py",
   "mimetype": "text/x-python",
   "name": "python",
   "nbconvert_exporter": "python",
   "pygments_lexer": "ipython3",
   "version": "3.7.3"
  }
 },
 "nbformat": 4,
 "nbformat_minor": 2
}
